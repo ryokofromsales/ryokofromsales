{
 "cells": [
  {
   "cell_type": "markdown",
   "metadata": {
    "id": "ZvGuEYgDsohG"
   },
   "source": [
    "<div>\n",
    "<img src=https://www.institutedata.com/wp-content/uploads/2019/10/iod_h_tp_primary_c.svg width=\"300\">\n",
    "</div>"
   ]
  },
  {
   "cell_type": "markdown",
   "metadata": {
    "id": "4BNQ4CkOLEnK"
   },
   "source": [
    "# Pandas Exploration\n",
    "\n",
    "This lab provides practice in using the pandas library to carry out the following tasks:\n",
    "\n",
    "1. Understanding data types\n",
    "2. Querying a dataframe\n",
    "3. Using the index to sort a dataframe\n",
    "4. Visualising and summarising columns of a dataframe\n"
   ]
  },
  {
   "cell_type": "code",
   "execution_count": 24,
   "metadata": {
    "executionInfo": {
     "elapsed": 1960,
     "status": "ok",
     "timestamp": 1739949184035,
     "user": {
      "displayName": "Lionel Low",
      "userId": "04992275585769794782"
     },
     "user_tz": -480
    },
    "id": "k1hOvGzedsoO"
   },
   "outputs": [
    {
     "name": "stdout",
     "output_type": "stream",
     "text": [
      "2.2.3\n"
     ]
    }
   ],
   "source": [
    "import numpy as np\n",
    "import pandas as pd\n",
    "import matplotlib.pyplot as plt\n",
    "from scipy import stats\n",
    "# get matplot to show charts inline\n",
    "%matplotlib inline\n",
    "print(pd.__version__)"
   ]
  },
  {
   "cell_type": "markdown",
   "metadata": {
    "id": "idwTm8QinAE9"
   },
   "source": [
    "chrome://settings/content/cookies\n",
    "\n",
    "NOTE: Make sure third party cookies are not blocked."
   ]
  },
  {
   "cell_type": "code",
   "execution_count": 70,
   "metadata": {
    "colab": {
     "base_uri": "https://localhost:8080/",
     "height": 300
    },
    "executionInfo": {
     "elapsed": 480,
     "status": "error",
     "timestamp": 1739949186029,
     "user": {
      "displayName": "Lionel Low",
      "userId": "04992275585769794782"
     },
     "user_tz": -480
    },
    "id": "cPmJnMzgdsoR",
    "outputId": "ec975cc1-fe1d-4e24-fe68-af38f35c0891"
   },
   "outputs": [
    {
     "name": "stdout",
     "output_type": "stream",
     "text": [
      "   EmployeeID   recorddate_key birthdate_key orighiredate_key  \\\n",
      "0        1318  12/31/2006 0:00      1/3/1954        8/28/1989   \n",
      "1        1318  12/31/2007 0:00      1/3/1954        8/28/1989   \n",
      "2        1318  12/31/2008 0:00      1/3/1954        8/28/1989   \n",
      "3        1318  12/31/2009 0:00      1/3/1954        8/28/1989   \n",
      "4        1318  12/31/2010 0:00      1/3/1954        8/28/1989   \n",
      "\n",
      "  terminationdate_key  age  length_of_service  city_name department_name  \\\n",
      "0            1/1/1900   52                 17  Vancouver       Executive   \n",
      "1            1/1/1900   53                 18  Vancouver       Executive   \n",
      "2            1/1/1900   54                 19  Vancouver       Executive   \n",
      "3            1/1/1900   55                 20  Vancouver       Executive   \n",
      "4            1/1/1900   56                 21  Vancouver       Executive   \n",
      "\n",
      "  job_title  store_name gender_short gender_full termreason_desc  \\\n",
      "0       CEO          35            M        Male  Not Applicable   \n",
      "1       CEO          35            M        Male  Not Applicable   \n",
      "2       CEO          35            M        Male  Not Applicable   \n",
      "3       CEO          35            M        Male  Not Applicable   \n",
      "4       CEO          35            M        Male  Not Applicable   \n",
      "\n",
      "    termtype_desc  STATUS_YEAR  STATUS BUSINESS_UNIT  \n",
      "0  Not Applicable         2006  ACTIVE    HEADOFFICE  \n",
      "1  Not Applicable         2007  ACTIVE    HEADOFFICE  \n",
      "2  Not Applicable         2008  ACTIVE    HEADOFFICE  \n",
      "3  Not Applicable         2009  ACTIVE    HEADOFFICE  \n",
      "4  Not Applicable         2010  ACTIVE    HEADOFFICE  \n"
     ]
    }
   ],
   "source": [
    "path =r'C:\\Users\\ryoko\\OneDrive\\Documents\\DATA\\Employee-attrition.csv'\n",
    "df = pd.read_csv(path) # this comes from the DATA folder\n",
    "print(df.head())\n"
   ]
  },
  {
   "cell_type": "code",
   "execution_count": 71,
   "metadata": {
    "colab": {
     "base_uri": "https://localhost:8080/",
     "height": 427
    },
    "executionInfo": {
     "elapsed": 398,
     "status": "ok",
     "timestamp": 1678513495985,
     "user": {
      "displayName": "Ashish Ahuja",
      "userId": "14201169097260034647"
     },
     "user_tz": -660
    },
    "id": "0g0YHDJ1dsoT",
    "outputId": "7f0b49d8-5439-4af7-aff1-15ec50d41504"
   },
   "outputs": [
    {
     "data": {
      "text/html": [
       "<div>\n",
       "<style scoped>\n",
       "    .dataframe tbody tr th:only-of-type {\n",
       "        vertical-align: middle;\n",
       "    }\n",
       "\n",
       "    .dataframe tbody tr th {\n",
       "        vertical-align: top;\n",
       "    }\n",
       "\n",
       "    .dataframe thead th {\n",
       "        text-align: right;\n",
       "    }\n",
       "</style>\n",
       "<table border=\"1\" class=\"dataframe\">\n",
       "  <thead>\n",
       "    <tr style=\"text-align: right;\">\n",
       "      <th></th>\n",
       "      <th>EmployeeID</th>\n",
       "      <th>recorddate_key</th>\n",
       "      <th>birthdate_key</th>\n",
       "      <th>orighiredate_key</th>\n",
       "      <th>terminationdate_key</th>\n",
       "      <th>age</th>\n",
       "      <th>length_of_service</th>\n",
       "      <th>city_name</th>\n",
       "      <th>department_name</th>\n",
       "      <th>job_title</th>\n",
       "      <th>store_name</th>\n",
       "      <th>gender_short</th>\n",
       "      <th>gender_full</th>\n",
       "      <th>termreason_desc</th>\n",
       "      <th>termtype_desc</th>\n",
       "      <th>STATUS_YEAR</th>\n",
       "      <th>STATUS</th>\n",
       "      <th>BUSINESS_UNIT</th>\n",
       "    </tr>\n",
       "  </thead>\n",
       "  <tbody>\n",
       "    <tr>\n",
       "      <th>0</th>\n",
       "      <td>1318</td>\n",
       "      <td>12/31/2006 0:00</td>\n",
       "      <td>1/3/1954</td>\n",
       "      <td>8/28/1989</td>\n",
       "      <td>1/1/1900</td>\n",
       "      <td>52</td>\n",
       "      <td>17</td>\n",
       "      <td>Vancouver</td>\n",
       "      <td>Executive</td>\n",
       "      <td>CEO</td>\n",
       "      <td>35</td>\n",
       "      <td>M</td>\n",
       "      <td>Male</td>\n",
       "      <td>Not Applicable</td>\n",
       "      <td>Not Applicable</td>\n",
       "      <td>2006</td>\n",
       "      <td>ACTIVE</td>\n",
       "      <td>HEADOFFICE</td>\n",
       "    </tr>\n",
       "    <tr>\n",
       "      <th>1</th>\n",
       "      <td>1318</td>\n",
       "      <td>12/31/2007 0:00</td>\n",
       "      <td>1/3/1954</td>\n",
       "      <td>8/28/1989</td>\n",
       "      <td>1/1/1900</td>\n",
       "      <td>53</td>\n",
       "      <td>18</td>\n",
       "      <td>Vancouver</td>\n",
       "      <td>Executive</td>\n",
       "      <td>CEO</td>\n",
       "      <td>35</td>\n",
       "      <td>M</td>\n",
       "      <td>Male</td>\n",
       "      <td>Not Applicable</td>\n",
       "      <td>Not Applicable</td>\n",
       "      <td>2007</td>\n",
       "      <td>ACTIVE</td>\n",
       "      <td>HEADOFFICE</td>\n",
       "    </tr>\n",
       "    <tr>\n",
       "      <th>2</th>\n",
       "      <td>1318</td>\n",
       "      <td>12/31/2008 0:00</td>\n",
       "      <td>1/3/1954</td>\n",
       "      <td>8/28/1989</td>\n",
       "      <td>1/1/1900</td>\n",
       "      <td>54</td>\n",
       "      <td>19</td>\n",
       "      <td>Vancouver</td>\n",
       "      <td>Executive</td>\n",
       "      <td>CEO</td>\n",
       "      <td>35</td>\n",
       "      <td>M</td>\n",
       "      <td>Male</td>\n",
       "      <td>Not Applicable</td>\n",
       "      <td>Not Applicable</td>\n",
       "      <td>2008</td>\n",
       "      <td>ACTIVE</td>\n",
       "      <td>HEADOFFICE</td>\n",
       "    </tr>\n",
       "    <tr>\n",
       "      <th>3</th>\n",
       "      <td>1318</td>\n",
       "      <td>12/31/2009 0:00</td>\n",
       "      <td>1/3/1954</td>\n",
       "      <td>8/28/1989</td>\n",
       "      <td>1/1/1900</td>\n",
       "      <td>55</td>\n",
       "      <td>20</td>\n",
       "      <td>Vancouver</td>\n",
       "      <td>Executive</td>\n",
       "      <td>CEO</td>\n",
       "      <td>35</td>\n",
       "      <td>M</td>\n",
       "      <td>Male</td>\n",
       "      <td>Not Applicable</td>\n",
       "      <td>Not Applicable</td>\n",
       "      <td>2009</td>\n",
       "      <td>ACTIVE</td>\n",
       "      <td>HEADOFFICE</td>\n",
       "    </tr>\n",
       "    <tr>\n",
       "      <th>4</th>\n",
       "      <td>1318</td>\n",
       "      <td>12/31/2010 0:00</td>\n",
       "      <td>1/3/1954</td>\n",
       "      <td>8/28/1989</td>\n",
       "      <td>1/1/1900</td>\n",
       "      <td>56</td>\n",
       "      <td>21</td>\n",
       "      <td>Vancouver</td>\n",
       "      <td>Executive</td>\n",
       "      <td>CEO</td>\n",
       "      <td>35</td>\n",
       "      <td>M</td>\n",
       "      <td>Male</td>\n",
       "      <td>Not Applicable</td>\n",
       "      <td>Not Applicable</td>\n",
       "      <td>2010</td>\n",
       "      <td>ACTIVE</td>\n",
       "      <td>HEADOFFICE</td>\n",
       "    </tr>\n",
       "    <tr>\n",
       "      <th>5</th>\n",
       "      <td>1318</td>\n",
       "      <td>12/31/2011 0:00</td>\n",
       "      <td>1/3/1954</td>\n",
       "      <td>8/28/1989</td>\n",
       "      <td>1/1/1900</td>\n",
       "      <td>57</td>\n",
       "      <td>22</td>\n",
       "      <td>Vancouver</td>\n",
       "      <td>Executive</td>\n",
       "      <td>CEO</td>\n",
       "      <td>35</td>\n",
       "      <td>M</td>\n",
       "      <td>Male</td>\n",
       "      <td>Not Applicable</td>\n",
       "      <td>Not Applicable</td>\n",
       "      <td>2011</td>\n",
       "      <td>ACTIVE</td>\n",
       "      <td>HEADOFFICE</td>\n",
       "    </tr>\n",
       "    <tr>\n",
       "      <th>6</th>\n",
       "      <td>1318</td>\n",
       "      <td>12/31/2012 0:00</td>\n",
       "      <td>1/3/1954</td>\n",
       "      <td>8/28/1989</td>\n",
       "      <td>1/1/1900</td>\n",
       "      <td>58</td>\n",
       "      <td>23</td>\n",
       "      <td>Vancouver</td>\n",
       "      <td>Executive</td>\n",
       "      <td>CEO</td>\n",
       "      <td>35</td>\n",
       "      <td>M</td>\n",
       "      <td>Male</td>\n",
       "      <td>Not Applicable</td>\n",
       "      <td>Not Applicable</td>\n",
       "      <td>2012</td>\n",
       "      <td>ACTIVE</td>\n",
       "      <td>HEADOFFICE</td>\n",
       "    </tr>\n",
       "    <tr>\n",
       "      <th>7</th>\n",
       "      <td>1318</td>\n",
       "      <td>12/31/2013 0:00</td>\n",
       "      <td>1/3/1954</td>\n",
       "      <td>8/28/1989</td>\n",
       "      <td>1/1/1900</td>\n",
       "      <td>59</td>\n",
       "      <td>24</td>\n",
       "      <td>Vancouver</td>\n",
       "      <td>Executive</td>\n",
       "      <td>CEO</td>\n",
       "      <td>35</td>\n",
       "      <td>M</td>\n",
       "      <td>Male</td>\n",
       "      <td>Not Applicable</td>\n",
       "      <td>Not Applicable</td>\n",
       "      <td>2013</td>\n",
       "      <td>ACTIVE</td>\n",
       "      <td>HEADOFFICE</td>\n",
       "    </tr>\n",
       "    <tr>\n",
       "      <th>8</th>\n",
       "      <td>1318</td>\n",
       "      <td>12/31/2014 0:00</td>\n",
       "      <td>1/3/1954</td>\n",
       "      <td>8/28/1989</td>\n",
       "      <td>1/1/1900</td>\n",
       "      <td>60</td>\n",
       "      <td>25</td>\n",
       "      <td>Vancouver</td>\n",
       "      <td>Executive</td>\n",
       "      <td>CEO</td>\n",
       "      <td>35</td>\n",
       "      <td>M</td>\n",
       "      <td>Male</td>\n",
       "      <td>Not Applicable</td>\n",
       "      <td>Not Applicable</td>\n",
       "      <td>2014</td>\n",
       "      <td>ACTIVE</td>\n",
       "      <td>HEADOFFICE</td>\n",
       "    </tr>\n",
       "    <tr>\n",
       "      <th>9</th>\n",
       "      <td>1318</td>\n",
       "      <td>12/31/2015 0:00</td>\n",
       "      <td>1/3/1954</td>\n",
       "      <td>8/28/1989</td>\n",
       "      <td>1/1/1900</td>\n",
       "      <td>61</td>\n",
       "      <td>26</td>\n",
       "      <td>Vancouver</td>\n",
       "      <td>Executive</td>\n",
       "      <td>CEO</td>\n",
       "      <td>35</td>\n",
       "      <td>M</td>\n",
       "      <td>Male</td>\n",
       "      <td>Not Applicable</td>\n",
       "      <td>Not Applicable</td>\n",
       "      <td>2015</td>\n",
       "      <td>ACTIVE</td>\n",
       "      <td>HEADOFFICE</td>\n",
       "    </tr>\n",
       "  </tbody>\n",
       "</table>\n",
       "</div>"
      ],
      "text/plain": [
       "   EmployeeID   recorddate_key birthdate_key orighiredate_key  \\\n",
       "0        1318  12/31/2006 0:00      1/3/1954        8/28/1989   \n",
       "1        1318  12/31/2007 0:00      1/3/1954        8/28/1989   \n",
       "2        1318  12/31/2008 0:00      1/3/1954        8/28/1989   \n",
       "3        1318  12/31/2009 0:00      1/3/1954        8/28/1989   \n",
       "4        1318  12/31/2010 0:00      1/3/1954        8/28/1989   \n",
       "5        1318  12/31/2011 0:00      1/3/1954        8/28/1989   \n",
       "6        1318  12/31/2012 0:00      1/3/1954        8/28/1989   \n",
       "7        1318  12/31/2013 0:00      1/3/1954        8/28/1989   \n",
       "8        1318  12/31/2014 0:00      1/3/1954        8/28/1989   \n",
       "9        1318  12/31/2015 0:00      1/3/1954        8/28/1989   \n",
       "\n",
       "  terminationdate_key  age  length_of_service  city_name department_name  \\\n",
       "0            1/1/1900   52                 17  Vancouver       Executive   \n",
       "1            1/1/1900   53                 18  Vancouver       Executive   \n",
       "2            1/1/1900   54                 19  Vancouver       Executive   \n",
       "3            1/1/1900   55                 20  Vancouver       Executive   \n",
       "4            1/1/1900   56                 21  Vancouver       Executive   \n",
       "5            1/1/1900   57                 22  Vancouver       Executive   \n",
       "6            1/1/1900   58                 23  Vancouver       Executive   \n",
       "7            1/1/1900   59                 24  Vancouver       Executive   \n",
       "8            1/1/1900   60                 25  Vancouver       Executive   \n",
       "9            1/1/1900   61                 26  Vancouver       Executive   \n",
       "\n",
       "  job_title  store_name gender_short gender_full termreason_desc  \\\n",
       "0       CEO          35            M        Male  Not Applicable   \n",
       "1       CEO          35            M        Male  Not Applicable   \n",
       "2       CEO          35            M        Male  Not Applicable   \n",
       "3       CEO          35            M        Male  Not Applicable   \n",
       "4       CEO          35            M        Male  Not Applicable   \n",
       "5       CEO          35            M        Male  Not Applicable   \n",
       "6       CEO          35            M        Male  Not Applicable   \n",
       "7       CEO          35            M        Male  Not Applicable   \n",
       "8       CEO          35            M        Male  Not Applicable   \n",
       "9       CEO          35            M        Male  Not Applicable   \n",
       "\n",
       "    termtype_desc  STATUS_YEAR  STATUS BUSINESS_UNIT  \n",
       "0  Not Applicable         2006  ACTIVE    HEADOFFICE  \n",
       "1  Not Applicable         2007  ACTIVE    HEADOFFICE  \n",
       "2  Not Applicable         2008  ACTIVE    HEADOFFICE  \n",
       "3  Not Applicable         2009  ACTIVE    HEADOFFICE  \n",
       "4  Not Applicable         2010  ACTIVE    HEADOFFICE  \n",
       "5  Not Applicable         2011  ACTIVE    HEADOFFICE  \n",
       "6  Not Applicable         2012  ACTIVE    HEADOFFICE  \n",
       "7  Not Applicable         2013  ACTIVE    HEADOFFICE  \n",
       "8  Not Applicable         2014  ACTIVE    HEADOFFICE  \n",
       "9  Not Applicable         2015  ACTIVE    HEADOFFICE  "
      ]
     },
     "execution_count": 71,
     "metadata": {},
     "output_type": "execute_result"
    }
   ],
   "source": [
    "df.head(10)"
   ]
  },
  {
   "cell_type": "code",
   "execution_count": 72,
   "metadata": {
    "colab": {
     "base_uri": "https://localhost:8080/",
     "height": 267
    },
    "id": "NGFbwlODdsoX",
    "outputId": "d231d474-93bf-4624-86d4-dc15c58921fd"
   },
   "outputs": [
    {
     "data": {
      "text/html": [
       "<div>\n",
       "<style scoped>\n",
       "    .dataframe tbody tr th:only-of-type {\n",
       "        vertical-align: middle;\n",
       "    }\n",
       "\n",
       "    .dataframe tbody tr th {\n",
       "        vertical-align: top;\n",
       "    }\n",
       "\n",
       "    .dataframe thead th {\n",
       "        text-align: right;\n",
       "    }\n",
       "</style>\n",
       "<table border=\"1\" class=\"dataframe\">\n",
       "  <thead>\n",
       "    <tr style=\"text-align: right;\">\n",
       "      <th></th>\n",
       "      <th>EmployeeID</th>\n",
       "      <th>recorddate_key</th>\n",
       "      <th>birthdate_key</th>\n",
       "      <th>orighiredate_key</th>\n",
       "      <th>terminationdate_key</th>\n",
       "      <th>age</th>\n",
       "      <th>length_of_service</th>\n",
       "      <th>city_name</th>\n",
       "      <th>department_name</th>\n",
       "      <th>job_title</th>\n",
       "      <th>store_name</th>\n",
       "      <th>gender_short</th>\n",
       "      <th>gender_full</th>\n",
       "      <th>termreason_desc</th>\n",
       "      <th>termtype_desc</th>\n",
       "      <th>STATUS_YEAR</th>\n",
       "      <th>STATUS</th>\n",
       "      <th>BUSINESS_UNIT</th>\n",
       "    </tr>\n",
       "  </thead>\n",
       "  <tbody>\n",
       "    <tr>\n",
       "      <th>49648</th>\n",
       "      <td>8258</td>\n",
       "      <td>12/1/2015 0:00</td>\n",
       "      <td>5/28/1994</td>\n",
       "      <td>8/19/2013</td>\n",
       "      <td>12/30/2015</td>\n",
       "      <td>21</td>\n",
       "      <td>2</td>\n",
       "      <td>Valemount</td>\n",
       "      <td>Dairy</td>\n",
       "      <td>Dairy Person</td>\n",
       "      <td>34</td>\n",
       "      <td>M</td>\n",
       "      <td>Male</td>\n",
       "      <td>Layoff</td>\n",
       "      <td>Involuntary</td>\n",
       "      <td>2015</td>\n",
       "      <td>TERMINATED</td>\n",
       "      <td>STORES</td>\n",
       "    </tr>\n",
       "    <tr>\n",
       "      <th>49649</th>\n",
       "      <td>8264</td>\n",
       "      <td>8/1/2013 0:00</td>\n",
       "      <td>6/13/1994</td>\n",
       "      <td>8/27/2013</td>\n",
       "      <td>8/30/2013</td>\n",
       "      <td>19</td>\n",
       "      <td>0</td>\n",
       "      <td>Vancouver</td>\n",
       "      <td>Customer Service</td>\n",
       "      <td>Cashier</td>\n",
       "      <td>44</td>\n",
       "      <td>F</td>\n",
       "      <td>Female</td>\n",
       "      <td>Resignaton</td>\n",
       "      <td>Voluntary</td>\n",
       "      <td>2013</td>\n",
       "      <td>TERMINATED</td>\n",
       "      <td>STORES</td>\n",
       "    </tr>\n",
       "    <tr>\n",
       "      <th>49650</th>\n",
       "      <td>8279</td>\n",
       "      <td>12/1/2015 0:00</td>\n",
       "      <td>7/18/1994</td>\n",
       "      <td>9/15/2013</td>\n",
       "      <td>12/30/2015</td>\n",
       "      <td>21</td>\n",
       "      <td>2</td>\n",
       "      <td>White Rock</td>\n",
       "      <td>Customer Service</td>\n",
       "      <td>Cashier</td>\n",
       "      <td>39</td>\n",
       "      <td>F</td>\n",
       "      <td>Female</td>\n",
       "      <td>Layoff</td>\n",
       "      <td>Involuntary</td>\n",
       "      <td>2015</td>\n",
       "      <td>TERMINATED</td>\n",
       "      <td>STORES</td>\n",
       "    </tr>\n",
       "    <tr>\n",
       "      <th>49651</th>\n",
       "      <td>8296</td>\n",
       "      <td>12/1/2013 0:00</td>\n",
       "      <td>9/2/1994</td>\n",
       "      <td>10/9/2013</td>\n",
       "      <td>12/31/2013</td>\n",
       "      <td>19</td>\n",
       "      <td>0</td>\n",
       "      <td>Kelowna</td>\n",
       "      <td>Customer Service</td>\n",
       "      <td>Cashier</td>\n",
       "      <td>16</td>\n",
       "      <td>F</td>\n",
       "      <td>Female</td>\n",
       "      <td>Resignaton</td>\n",
       "      <td>Voluntary</td>\n",
       "      <td>2013</td>\n",
       "      <td>TERMINATED</td>\n",
       "      <td>STORES</td>\n",
       "    </tr>\n",
       "    <tr>\n",
       "      <th>49652</th>\n",
       "      <td>8321</td>\n",
       "      <td>12/1/2014 0:00</td>\n",
       "      <td>11/28/1994</td>\n",
       "      <td>11/24/2013</td>\n",
       "      <td>12/30/2014</td>\n",
       "      <td>20</td>\n",
       "      <td>1</td>\n",
       "      <td>Grand Forks</td>\n",
       "      <td>Customer Service</td>\n",
       "      <td>Cashier</td>\n",
       "      <td>13</td>\n",
       "      <td>F</td>\n",
       "      <td>Female</td>\n",
       "      <td>Layoff</td>\n",
       "      <td>Involuntary</td>\n",
       "      <td>2014</td>\n",
       "      <td>TERMINATED</td>\n",
       "      <td>STORES</td>\n",
       "    </tr>\n",
       "  </tbody>\n",
       "</table>\n",
       "</div>"
      ],
      "text/plain": [
       "       EmployeeID  recorddate_key birthdate_key orighiredate_key  \\\n",
       "49648        8258  12/1/2015 0:00     5/28/1994        8/19/2013   \n",
       "49649        8264   8/1/2013 0:00     6/13/1994        8/27/2013   \n",
       "49650        8279  12/1/2015 0:00     7/18/1994        9/15/2013   \n",
       "49651        8296  12/1/2013 0:00      9/2/1994        10/9/2013   \n",
       "49652        8321  12/1/2014 0:00    11/28/1994       11/24/2013   \n",
       "\n",
       "      terminationdate_key  age  length_of_service    city_name  \\\n",
       "49648          12/30/2015   21                  2    Valemount   \n",
       "49649           8/30/2013   19                  0    Vancouver   \n",
       "49650          12/30/2015   21                  2   White Rock   \n",
       "49651          12/31/2013   19                  0      Kelowna   \n",
       "49652          12/30/2014   20                  1  Grand Forks   \n",
       "\n",
       "        department_name     job_title  store_name gender_short gender_full  \\\n",
       "49648             Dairy  Dairy Person          34            M        Male   \n",
       "49649  Customer Service       Cashier          44            F      Female   \n",
       "49650  Customer Service       Cashier          39            F      Female   \n",
       "49651  Customer Service       Cashier          16            F      Female   \n",
       "49652  Customer Service       Cashier          13            F      Female   \n",
       "\n",
       "      termreason_desc termtype_desc  STATUS_YEAR      STATUS BUSINESS_UNIT  \n",
       "49648          Layoff   Involuntary         2015  TERMINATED        STORES  \n",
       "49649      Resignaton     Voluntary         2013  TERMINATED        STORES  \n",
       "49650          Layoff   Involuntary         2015  TERMINATED        STORES  \n",
       "49651      Resignaton     Voluntary         2013  TERMINATED        STORES  \n",
       "49652          Layoff   Involuntary         2014  TERMINATED        STORES  "
      ]
     },
     "execution_count": 72,
     "metadata": {},
     "output_type": "execute_result"
    }
   ],
   "source": [
    "df.tail()"
   ]
  },
  {
   "cell_type": "markdown",
   "metadata": {
    "id": "xF6HM872n4r_"
   },
   "source": [
    "# Accessing the main DataFrame components"
   ]
  },
  {
   "cell_type": "code",
   "execution_count": 73,
   "metadata": {
    "id": "Mdr1r8Vjn8MW"
   },
   "outputs": [],
   "source": [
    "columns = df.columns\n",
    "index = df.index\n",
    "data = df.values"
   ]
  },
  {
   "cell_type": "code",
   "execution_count": 31,
   "metadata": {
    "colab": {
     "base_uri": "https://localhost:8080/"
    },
    "executionInfo": {
     "elapsed": 19,
     "status": "ok",
     "timestamp": 1678513585972,
     "user": {
      "displayName": "Ashish Ahuja",
      "userId": "14201169097260034647"
     },
     "user_tz": -660
    },
    "id": "ZswvXsbSoC_Z",
    "outputId": "1de3d02e-c4d8-4e61-e68e-0a5c81455327"
   },
   "outputs": [
    {
     "data": {
      "text/plain": [
       "Index(['EmployeeID', 'recorddate_key', 'birthdate_key', 'orighiredate_key',\n",
       "       'terminationdate_key', 'age', 'length_of_service', 'city_name',\n",
       "       'department_name', 'job_title', 'store_name', 'gender_short',\n",
       "       'gender_full', 'termreason_desc', 'termtype_desc', 'STATUS_YEAR',\n",
       "       'STATUS', 'BUSINESS_UNIT'],\n",
       "      dtype='object')"
      ]
     },
     "execution_count": 31,
     "metadata": {},
     "output_type": "execute_result"
    }
   ],
   "source": [
    "columns"
   ]
  },
  {
   "cell_type": "code",
   "execution_count": 74,
   "metadata": {
    "colab": {
     "base_uri": "https://localhost:8080/"
    },
    "executionInfo": {
     "elapsed": 13,
     "status": "ok",
     "timestamp": 1678513588840,
     "user": {
      "displayName": "Ashish Ahuja",
      "userId": "14201169097260034647"
     },
     "user_tz": -660
    },
    "id": "GLo6QO7BoEmP",
    "outputId": "bb303951-a717-4ff1-92af-0ebe7f9d9ee4"
   },
   "outputs": [
    {
     "data": {
      "text/plain": [
       "RangeIndex(start=0, stop=49653, step=1)"
      ]
     },
     "execution_count": 74,
     "metadata": {},
     "output_type": "execute_result"
    }
   ],
   "source": [
    "index"
   ]
  },
  {
   "cell_type": "code",
   "execution_count": 75,
   "metadata": {
    "colab": {
     "base_uri": "https://localhost:8080/"
    },
    "executionInfo": {
     "elapsed": 363,
     "status": "ok",
     "timestamp": 1678513591755,
     "user": {
      "displayName": "Ashish Ahuja",
      "userId": "14201169097260034647"
     },
     "user_tz": -660
    },
    "id": "DOiXYBceoGPn",
    "outputId": "31f53954-5001-4d31-c34a-bb85dfa58e6a"
   },
   "outputs": [
    {
     "data": {
      "text/plain": [
       "array([[1318, '12/31/2006 0:00', '1/3/1954', ..., 2006, 'ACTIVE',\n",
       "        'HEADOFFICE'],\n",
       "       [1318, '12/31/2007 0:00', '1/3/1954', ..., 2007, 'ACTIVE',\n",
       "        'HEADOFFICE'],\n",
       "       [1318, '12/31/2008 0:00', '1/3/1954', ..., 2008, 'ACTIVE',\n",
       "        'HEADOFFICE'],\n",
       "       ...,\n",
       "       [8279, '12/1/2015 0:00', '7/18/1994', ..., 2015, 'TERMINATED',\n",
       "        'STORES'],\n",
       "       [8296, '12/1/2013 0:00', '9/2/1994', ..., 2013, 'TERMINATED',\n",
       "        'STORES'],\n",
       "       [8321, '12/1/2014 0:00', '11/28/1994', ..., 2014, 'TERMINATED',\n",
       "        'STORES']], shape=(49653, 18), dtype=object)"
      ]
     },
     "execution_count": 75,
     "metadata": {},
     "output_type": "execute_result"
    }
   ],
   "source": [
    "data"
   ]
  },
  {
   "cell_type": "markdown",
   "metadata": {
    "id": "3fec-2AUoPmk"
   },
   "source": [
    "# 1. Understanding Data Types"
   ]
  },
  {
   "cell_type": "markdown",
   "metadata": {
    "id": "TxadHP_NtXbK"
   },
   "source": [
    "#### 1.A Find the shape of the dataframe"
   ]
  },
  {
   "cell_type": "code",
   "execution_count": 76,
   "metadata": {
    "id": "ZLGMP4NRpqE5"
   },
   "outputs": [
    {
     "name": "stdout",
     "output_type": "stream",
     "text": [
      "Shape of the DataFrame: (49653, 18)\n"
     ]
    }
   ],
   "source": [
    "# A:\n",
    "print(\"Shape of the DataFrame:\", df.shape)"
   ]
  },
  {
   "cell_type": "markdown",
   "metadata": {
    "id": "oJX-CGXvuvR7"
   },
   "source": [
    "#### 1.B Find the data types of the dataframe"
   ]
  },
  {
   "cell_type": "code",
   "execution_count": 77,
   "metadata": {
    "id": "9-jcxa4JoUaF"
   },
   "outputs": [
    {
     "name": "stdout",
     "output_type": "stream",
     "text": [
      "Data types of each column:\n",
      " EmployeeID              int64\n",
      "recorddate_key         object\n",
      "birthdate_key          object\n",
      "orighiredate_key       object\n",
      "terminationdate_key    object\n",
      "age                     int64\n",
      "length_of_service       int64\n",
      "city_name              object\n",
      "department_name        object\n",
      "job_title              object\n",
      "store_name              int64\n",
      "gender_short           object\n",
      "gender_full            object\n",
      "termreason_desc        object\n",
      "termtype_desc          object\n",
      "STATUS_YEAR             int64\n",
      "STATUS                 object\n",
      "BUSINESS_UNIT          object\n",
      "dtype: object\n"
     ]
    }
   ],
   "source": [
    "# A:\n",
    "print(\"Data types of each column:\\n\", df.dtypes)"
   ]
  },
  {
   "cell_type": "markdown",
   "metadata": {
    "id": "F84ZM4giu3uX"
   },
   "source": [
    "#### 1.C Find the number of data types in the dataframe\n",
    "\n",
    "\n",
    "\n",
    "```\n",
    "Expected Output:\n",
    "object    13\n",
    "int64      5\n",
    "dtype: int64\n",
    "```\n",
    "\n"
   ]
  },
  {
   "cell_type": "code",
   "execution_count": 78,
   "metadata": {
    "id": "paNLh7uZze7_"
   },
   "outputs": [
    {
     "name": "stdout",
     "output_type": "stream",
     "text": [
      "Number of unique data types in the DataFrame:\n",
      " object    13\n",
      "int64      5\n",
      "Name: count, dtype: int64\n"
     ]
    }
   ],
   "source": [
    "# A:\n",
    "num_unique_dtypes = df.dtypes.value_counts()\n",
    "print(\"Number of unique data types in the DataFrame:\\n\", num_unique_dtypes)\n"
   ]
  },
  {
   "cell_type": "markdown",
   "metadata": {
    "id": "1yyNZ1HIvGVp"
   },
   "source": [
    "#### 1.D Use Info\n",
    "\n",
    "Use info and explore the difference."
   ]
  },
  {
   "cell_type": "code",
   "execution_count": 79,
   "metadata": {
    "id": "br45XLTVoXsv"
   },
   "outputs": [
    {
     "name": "stdout",
     "output_type": "stream",
     "text": [
      "<class 'pandas.core.frame.DataFrame'>\n",
      "RangeIndex: 49653 entries, 0 to 49652\n",
      "Data columns (total 18 columns):\n",
      " #   Column               Non-Null Count  Dtype \n",
      "---  ------               --------------  ----- \n",
      " 0   EmployeeID           49653 non-null  int64 \n",
      " 1   recorddate_key       49653 non-null  object\n",
      " 2   birthdate_key        49653 non-null  object\n",
      " 3   orighiredate_key     49653 non-null  object\n",
      " 4   terminationdate_key  49653 non-null  object\n",
      " 5   age                  49653 non-null  int64 \n",
      " 6   length_of_service    49653 non-null  int64 \n",
      " 7   city_name            49653 non-null  object\n",
      " 8   department_name      49653 non-null  object\n",
      " 9   job_title            49653 non-null  object\n",
      " 10  store_name           49653 non-null  int64 \n",
      " 11  gender_short         49653 non-null  object\n",
      " 12  gender_full          49653 non-null  object\n",
      " 13  termreason_desc      49653 non-null  object\n",
      " 14  termtype_desc        49653 non-null  object\n",
      " 15  STATUS_YEAR          49653 non-null  int64 \n",
      " 16  STATUS               49653 non-null  object\n",
      " 17  BUSINESS_UNIT        49653 non-null  object\n",
      "dtypes: int64(5), object(13)\n",
      "memory usage: 6.8+ MB\n"
     ]
    }
   ],
   "source": [
    "# A:\n",
    "df.info()"
   ]
  },
  {
   "cell_type": "markdown",
   "metadata": {
    "id": "aFVlzHmwolwU"
   },
   "source": [
    "# 2. Querying the Dataframe"
   ]
  },
  {
   "cell_type": "markdown",
   "metadata": {
    "id": "MHa557TsvdoP"
   },
   "source": [
    "#### 2.A Check Values of the `job_title` column"
   ]
  },
  {
   "cell_type": "code",
   "execution_count": 80,
   "metadata": {
    "id": "qAv8nIvnopMN"
   },
   "outputs": [
    {
     "data": {
      "text/plain": [
       "0                 CEO\n",
       "1                 CEO\n",
       "2                 CEO\n",
       "3                 CEO\n",
       "4                 CEO\n",
       "             ...     \n",
       "49648    Dairy Person\n",
       "49649         Cashier\n",
       "49650         Cashier\n",
       "49651         Cashier\n",
       "49652         Cashier\n",
       "Name: job_title, Length: 49653, dtype: object"
      ]
     },
     "execution_count": 80,
     "metadata": {},
     "output_type": "execute_result"
    }
   ],
   "source": [
    "# A:\n",
    "df['job_title']"
   ]
  },
  {
   "cell_type": "markdown",
   "metadata": {
    "id": "ZGrf6tiRvn8F"
   },
   "source": [
    "#### 2.B Find how many rows are in each job title\n",
    "\n",
    "\n",
    "\n",
    "```\n",
    "# Expected Output\n",
    "Meat Cutter                        9984\n",
    "Dairy Person                       8590\n",
    "Produce Clerk                      8237\n",
    ".\n",
    ".\n",
    ".\n",
    "```\n",
    "\n"
   ]
  },
  {
   "cell_type": "code",
   "execution_count": 81,
   "metadata": {
    "id": "J1oPyGUxpYv4"
   },
   "outputs": [
    {
     "name": "stdout",
     "output_type": "stream",
     "text": [
      "job_title\n",
      "Meat Cutter                        9984\n",
      "Dairy Person                       8590\n",
      "Produce Clerk                      8237\n",
      "Baker                              8096\n",
      "Cashier                            6816\n",
      "Shelf Stocker                      5622\n",
      "Customer Service Manager            306\n",
      "Processed Foods Manager             289\n",
      "Meats Manager                       285\n",
      "Bakery Manager                      285\n",
      "Produce Manager                     278\n",
      "Store Manager                       271\n",
      "Recruiter                            62\n",
      "HRIS Analyst                         55\n",
      "Accounting Clerk                     50\n",
      "Benefits Admin                       35\n",
      "Accounts Receiveable Clerk           30\n",
      "Labor Relations Analyst              30\n",
      "Trainer                              26\n",
      "Accounts Payable Clerk               25\n",
      "Investment Analyst                   20\n",
      "Auditor                              20\n",
      "Systems Analyst                      20\n",
      "Compensation Analyst                 20\n",
      "Corporate Lawyer                     17\n",
      "Legal Counsel                        10\n",
      "VP Human Resources                   10\n",
      "CEO                                  10\n",
      "VP Stores                            10\n",
      "VP Finance                           10\n",
      "Exec Assistant, Legal Counsel        10\n",
      "Exec Assistant, Human Resources      10\n",
      "CHief Information Officer            10\n",
      "Director, Recruitment                10\n",
      "Exec Assistant, Finance              10\n",
      "Exec Assistant, VP Stores            10\n",
      "Director, Employee Records            9\n",
      "Director, HR Technology               9\n",
      "Director, Accounting                  9\n",
      "Dairy Manager                         9\n",
      "Director, Accounts Payable            9\n",
      "Director, Accounts Receivable         9\n",
      "Director, Training                    4\n",
      "Director, Labor Relations             4\n",
      "Director, Audit                       4\n",
      "Director, Compensation                4\n",
      "Director, Investments                 4\n",
      "Name: count, dtype: int64\n"
     ]
    }
   ],
   "source": [
    "# A:\n",
    "job_title_counts = df['job_title'].value_counts()\n",
    "print(job_title_counts)"
   ]
  },
  {
   "cell_type": "markdown",
   "metadata": {
    "id": "kjKHK3MRMj1O"
   },
   "source": [
    "#### 2.C Find rows where `job_title` is CEO"
   ]
  },
  {
   "cell_type": "code",
   "execution_count": 82,
   "metadata": {
    "id": "11b0ZSKcsi3Q"
   },
   "outputs": [
    {
     "name": "stdout",
     "output_type": "stream",
     "text": [
      "   EmployeeID   recorddate_key birthdate_key orighiredate_key  \\\n",
      "0        1318  12/31/2006 0:00      1/3/1954        8/28/1989   \n",
      "1        1318  12/31/2007 0:00      1/3/1954        8/28/1989   \n",
      "2        1318  12/31/2008 0:00      1/3/1954        8/28/1989   \n",
      "3        1318  12/31/2009 0:00      1/3/1954        8/28/1989   \n",
      "4        1318  12/31/2010 0:00      1/3/1954        8/28/1989   \n",
      "5        1318  12/31/2011 0:00      1/3/1954        8/28/1989   \n",
      "6        1318  12/31/2012 0:00      1/3/1954        8/28/1989   \n",
      "7        1318  12/31/2013 0:00      1/3/1954        8/28/1989   \n",
      "8        1318  12/31/2014 0:00      1/3/1954        8/28/1989   \n",
      "9        1318  12/31/2015 0:00      1/3/1954        8/28/1989   \n",
      "\n",
      "  terminationdate_key  age  length_of_service  city_name department_name  \\\n",
      "0            1/1/1900   52                 17  Vancouver       Executive   \n",
      "1            1/1/1900   53                 18  Vancouver       Executive   \n",
      "2            1/1/1900   54                 19  Vancouver       Executive   \n",
      "3            1/1/1900   55                 20  Vancouver       Executive   \n",
      "4            1/1/1900   56                 21  Vancouver       Executive   \n",
      "5            1/1/1900   57                 22  Vancouver       Executive   \n",
      "6            1/1/1900   58                 23  Vancouver       Executive   \n",
      "7            1/1/1900   59                 24  Vancouver       Executive   \n",
      "8            1/1/1900   60                 25  Vancouver       Executive   \n",
      "9            1/1/1900   61                 26  Vancouver       Executive   \n",
      "\n",
      "  job_title  store_name gender_short gender_full termreason_desc  \\\n",
      "0       CEO          35            M        Male  Not Applicable   \n",
      "1       CEO          35            M        Male  Not Applicable   \n",
      "2       CEO          35            M        Male  Not Applicable   \n",
      "3       CEO          35            M        Male  Not Applicable   \n",
      "4       CEO          35            M        Male  Not Applicable   \n",
      "5       CEO          35            M        Male  Not Applicable   \n",
      "6       CEO          35            M        Male  Not Applicable   \n",
      "7       CEO          35            M        Male  Not Applicable   \n",
      "8       CEO          35            M        Male  Not Applicable   \n",
      "9       CEO          35            M        Male  Not Applicable   \n",
      "\n",
      "    termtype_desc  STATUS_YEAR  STATUS BUSINESS_UNIT  \n",
      "0  Not Applicable         2006  ACTIVE    HEADOFFICE  \n",
      "1  Not Applicable         2007  ACTIVE    HEADOFFICE  \n",
      "2  Not Applicable         2008  ACTIVE    HEADOFFICE  \n",
      "3  Not Applicable         2009  ACTIVE    HEADOFFICE  \n",
      "4  Not Applicable         2010  ACTIVE    HEADOFFICE  \n",
      "5  Not Applicable         2011  ACTIVE    HEADOFFICE  \n",
      "6  Not Applicable         2012  ACTIVE    HEADOFFICE  \n",
      "7  Not Applicable         2013  ACTIVE    HEADOFFICE  \n",
      "8  Not Applicable         2014  ACTIVE    HEADOFFICE  \n",
      "9  Not Applicable         2015  ACTIVE    HEADOFFICE  \n"
     ]
    }
   ],
   "source": [
    "# A: \n",
    "ceo_rows=df[df['job_title']=='CEO']\n",
    "print(ceo_rows)"
   ]
  },
  {
   "cell_type": "markdown",
   "metadata": {
    "id": "unrVvLl1wjxg"
   },
   "source": [
    "#### 2.D Describe `age`\n",
    "\n",
    "Find the count, mean, std, min, max of the column 'age'"
   ]
  },
  {
   "cell_type": "code",
   "execution_count": 83,
   "metadata": {
    "id": "DGk18B54p1Lm"
   },
   "outputs": [
    {
     "data": {
      "text/html": [
       "<div>\n",
       "<style scoped>\n",
       "    .dataframe tbody tr th:only-of-type {\n",
       "        vertical-align: middle;\n",
       "    }\n",
       "\n",
       "    .dataframe tbody tr th {\n",
       "        vertical-align: top;\n",
       "    }\n",
       "\n",
       "    .dataframe thead th {\n",
       "        text-align: right;\n",
       "    }\n",
       "</style>\n",
       "<table border=\"1\" class=\"dataframe\">\n",
       "  <thead>\n",
       "    <tr style=\"text-align: right;\">\n",
       "      <th></th>\n",
       "      <th>EmployeeID</th>\n",
       "      <th>age</th>\n",
       "      <th>length_of_service</th>\n",
       "      <th>store_name</th>\n",
       "      <th>STATUS_YEAR</th>\n",
       "    </tr>\n",
       "  </thead>\n",
       "  <tbody>\n",
       "    <tr>\n",
       "      <th>count</th>\n",
       "      <td>49653.000000</td>\n",
       "      <td>49653.000000</td>\n",
       "      <td>49653.000000</td>\n",
       "      <td>49653.000000</td>\n",
       "      <td>49653.000000</td>\n",
       "    </tr>\n",
       "    <tr>\n",
       "      <th>mean</th>\n",
       "      <td>4859.495740</td>\n",
       "      <td>42.077035</td>\n",
       "      <td>10.434596</td>\n",
       "      <td>27.297605</td>\n",
       "      <td>2010.612612</td>\n",
       "    </tr>\n",
       "    <tr>\n",
       "      <th>std</th>\n",
       "      <td>1826.571142</td>\n",
       "      <td>12.427257</td>\n",
       "      <td>6.325286</td>\n",
       "      <td>13.514134</td>\n",
       "      <td>2.845577</td>\n",
       "    </tr>\n",
       "    <tr>\n",
       "      <th>min</th>\n",
       "      <td>1318.000000</td>\n",
       "      <td>19.000000</td>\n",
       "      <td>0.000000</td>\n",
       "      <td>1.000000</td>\n",
       "      <td>2006.000000</td>\n",
       "    </tr>\n",
       "    <tr>\n",
       "      <th>25%</th>\n",
       "      <td>3360.000000</td>\n",
       "      <td>31.000000</td>\n",
       "      <td>5.000000</td>\n",
       "      <td>16.000000</td>\n",
       "      <td>2008.000000</td>\n",
       "    </tr>\n",
       "    <tr>\n",
       "      <th>50%</th>\n",
       "      <td>5031.000000</td>\n",
       "      <td>42.000000</td>\n",
       "      <td>10.000000</td>\n",
       "      <td>28.000000</td>\n",
       "      <td>2011.000000</td>\n",
       "    </tr>\n",
       "    <tr>\n",
       "      <th>75%</th>\n",
       "      <td>6335.000000</td>\n",
       "      <td>53.000000</td>\n",
       "      <td>15.000000</td>\n",
       "      <td>42.000000</td>\n",
       "      <td>2013.000000</td>\n",
       "    </tr>\n",
       "    <tr>\n",
       "      <th>max</th>\n",
       "      <td>8336.000000</td>\n",
       "      <td>65.000000</td>\n",
       "      <td>26.000000</td>\n",
       "      <td>46.000000</td>\n",
       "      <td>2015.000000</td>\n",
       "    </tr>\n",
       "  </tbody>\n",
       "</table>\n",
       "</div>"
      ],
      "text/plain": [
       "         EmployeeID           age  length_of_service    store_name  \\\n",
       "count  49653.000000  49653.000000       49653.000000  49653.000000   \n",
       "mean    4859.495740     42.077035          10.434596     27.297605   \n",
       "std     1826.571142     12.427257           6.325286     13.514134   \n",
       "min     1318.000000     19.000000           0.000000      1.000000   \n",
       "25%     3360.000000     31.000000           5.000000     16.000000   \n",
       "50%     5031.000000     42.000000          10.000000     28.000000   \n",
       "75%     6335.000000     53.000000          15.000000     42.000000   \n",
       "max     8336.000000     65.000000          26.000000     46.000000   \n",
       "\n",
       "        STATUS_YEAR  \n",
       "count  49653.000000  \n",
       "mean    2010.612612  \n",
       "std        2.845577  \n",
       "min     2006.000000  \n",
       "25%     2008.000000  \n",
       "50%     2011.000000  \n",
       "75%     2013.000000  \n",
       "max     2015.000000  "
      ]
     },
     "execution_count": 83,
     "metadata": {},
     "output_type": "execute_result"
    }
   ],
   "source": [
    "# A:\n",
    "df.describe()"
   ]
  },
  {
   "cell_type": "code",
   "execution_count": 50,
   "metadata": {},
   "outputs": [
    {
     "data": {
      "text/plain": [
       "count    49653.000000\n",
       "mean        42.077035\n",
       "std         12.427257\n",
       "min         19.000000\n",
       "25%         31.000000\n",
       "50%         42.000000\n",
       "75%         53.000000\n",
       "max         65.000000\n",
       "Name: age, dtype: float64"
      ]
     },
     "execution_count": 50,
     "metadata": {},
     "output_type": "execute_result"
    }
   ],
   "source": [
    "df['age'].describe()"
   ]
  },
  {
   "cell_type": "markdown",
   "metadata": {
    "id": "qhN9k6KOylrt"
   },
   "source": [
    "#### 2.E Group by `age` and find how many there are of each age"
   ]
  },
  {
   "cell_type": "code",
   "execution_count": 84,
   "metadata": {
    "id": "Ia56-Vi9dsoo"
   },
   "outputs": [
    {
     "name": "stdout",
     "output_type": "stream",
     "text": [
      "age\n",
      "27    1235\n",
      "29    1227\n",
      "28    1225\n",
      "50    1218\n",
      "30    1212\n",
      "26    1210\n",
      "51    1207\n",
      "25    1197\n",
      "49    1196\n",
      "35    1189\n",
      "34    1188\n",
      "53    1188\n",
      "52    1188\n",
      "48    1180\n",
      "36    1176\n",
      "47    1173\n",
      "55    1168\n",
      "33    1164\n",
      "46    1161\n",
      "54    1159\n",
      "44    1157\n",
      "38    1156\n",
      "56    1154\n",
      "32    1153\n",
      "42    1152\n",
      "43    1150\n",
      "37    1149\n",
      "31    1146\n",
      "39    1142\n",
      "45    1141\n",
      "41    1135\n",
      "57    1130\n",
      "40    1130\n",
      "58    1130\n",
      "59    1128\n",
      "24    1111\n",
      "60    1109\n",
      "23     960\n",
      "22     815\n",
      "61     757\n",
      "62     712\n",
      "21     703\n",
      "63     667\n",
      "64     646\n",
      "65     593\n",
      "20     408\n",
      "19     158\n",
      "Name: count, dtype: int64\n"
     ]
    }
   ],
   "source": [
    "# A:\n",
    "age_counts=df['age'].value_counts()\n",
    "print(age_counts)"
   ]
  },
  {
   "cell_type": "code",
   "execution_count": 85,
   "metadata": {},
   "outputs": [
    {
     "data": {
      "text/plain": [
       "age\n",
       "19     158\n",
       "20     408\n",
       "21     703\n",
       "22     815\n",
       "23     960\n",
       "24    1111\n",
       "25    1197\n",
       "26    1210\n",
       "27    1235\n",
       "28    1225\n",
       "29    1227\n",
       "30    1212\n",
       "31    1146\n",
       "32    1153\n",
       "33    1164\n",
       "34    1188\n",
       "35    1189\n",
       "36    1176\n",
       "37    1149\n",
       "38    1156\n",
       "39    1142\n",
       "40    1130\n",
       "41    1135\n",
       "42    1152\n",
       "43    1150\n",
       "44    1157\n",
       "45    1141\n",
       "46    1161\n",
       "47    1173\n",
       "48    1180\n",
       "49    1196\n",
       "50    1218\n",
       "51    1207\n",
       "52    1188\n",
       "53    1188\n",
       "54    1159\n",
       "55    1168\n",
       "56    1154\n",
       "57    1130\n",
       "58    1130\n",
       "59    1128\n",
       "60    1109\n",
       "61     757\n",
       "62     712\n",
       "63     667\n",
       "64     646\n",
       "65     593\n",
       "dtype: int64"
      ]
     },
     "execution_count": 85,
     "metadata": {},
     "output_type": "execute_result"
    }
   ],
   "source": [
    "age_dist=df.groupby(['age']).size()\n",
    "age_dist"
   ]
  },
  {
   "cell_type": "markdown",
   "metadata": {
    "id": "WStkVqlZw6ZP"
   },
   "source": [
    "##### 2.F [BONUS] Describe all numeric columns of the dataframe\n",
    "\n",
    "Find the count, mean, std, min, max of all columns of the dataframe"
   ]
  },
  {
   "cell_type": "code",
   "execution_count": 62,
   "metadata": {
    "id": "zatP7XTYdsoZ"
   },
   "outputs": [
    {
     "data": {
      "text/html": [
       "<div>\n",
       "<style scoped>\n",
       "    .dataframe tbody tr th:only-of-type {\n",
       "        vertical-align: middle;\n",
       "    }\n",
       "\n",
       "    .dataframe tbody tr th {\n",
       "        vertical-align: top;\n",
       "    }\n",
       "\n",
       "    .dataframe thead th {\n",
       "        text-align: right;\n",
       "    }\n",
       "</style>\n",
       "<table border=\"1\" class=\"dataframe\">\n",
       "  <thead>\n",
       "    <tr style=\"text-align: right;\">\n",
       "      <th></th>\n",
       "      <th>age</th>\n",
       "      <th>length_of_service</th>\n",
       "      <th>store_name</th>\n",
       "      <th>STATUS_YEAR</th>\n",
       "    </tr>\n",
       "  </thead>\n",
       "  <tbody>\n",
       "    <tr>\n",
       "      <th>count</th>\n",
       "      <td>49653.000000</td>\n",
       "      <td>49653.000000</td>\n",
       "      <td>49653.000000</td>\n",
       "      <td>49653.000000</td>\n",
       "    </tr>\n",
       "    <tr>\n",
       "      <th>mean</th>\n",
       "      <td>42.077035</td>\n",
       "      <td>10.434596</td>\n",
       "      <td>27.297605</td>\n",
       "      <td>2010.612612</td>\n",
       "    </tr>\n",
       "    <tr>\n",
       "      <th>std</th>\n",
       "      <td>12.427257</td>\n",
       "      <td>6.325286</td>\n",
       "      <td>13.514134</td>\n",
       "      <td>2.845577</td>\n",
       "    </tr>\n",
       "    <tr>\n",
       "      <th>min</th>\n",
       "      <td>19.000000</td>\n",
       "      <td>0.000000</td>\n",
       "      <td>1.000000</td>\n",
       "      <td>2006.000000</td>\n",
       "    </tr>\n",
       "    <tr>\n",
       "      <th>25%</th>\n",
       "      <td>31.000000</td>\n",
       "      <td>5.000000</td>\n",
       "      <td>16.000000</td>\n",
       "      <td>2008.000000</td>\n",
       "    </tr>\n",
       "    <tr>\n",
       "      <th>50%</th>\n",
       "      <td>42.000000</td>\n",
       "      <td>10.000000</td>\n",
       "      <td>28.000000</td>\n",
       "      <td>2011.000000</td>\n",
       "    </tr>\n",
       "    <tr>\n",
       "      <th>75%</th>\n",
       "      <td>53.000000</td>\n",
       "      <td>15.000000</td>\n",
       "      <td>42.000000</td>\n",
       "      <td>2013.000000</td>\n",
       "    </tr>\n",
       "    <tr>\n",
       "      <th>max</th>\n",
       "      <td>65.000000</td>\n",
       "      <td>26.000000</td>\n",
       "      <td>46.000000</td>\n",
       "      <td>2015.000000</td>\n",
       "    </tr>\n",
       "  </tbody>\n",
       "</table>\n",
       "</div>"
      ],
      "text/plain": [
       "                age  length_of_service    store_name   STATUS_YEAR\n",
       "count  49653.000000       49653.000000  49653.000000  49653.000000\n",
       "mean      42.077035          10.434596     27.297605   2010.612612\n",
       "std       12.427257           6.325286     13.514134      2.845577\n",
       "min       19.000000           0.000000      1.000000   2006.000000\n",
       "25%       31.000000           5.000000     16.000000   2008.000000\n",
       "50%       42.000000          10.000000     28.000000   2011.000000\n",
       "75%       53.000000          15.000000     42.000000   2013.000000\n",
       "max       65.000000          26.000000     46.000000   2015.000000"
      ]
     },
     "execution_count": 62,
     "metadata": {},
     "output_type": "execute_result"
    }
   ],
   "source": [
    "# A:\n",
    "df.describe()"
   ]
  },
  {
   "cell_type": "markdown",
   "metadata": {
    "id": "5QjPfOf5sE_T"
   },
   "source": [
    "# 3. Make the index meaningful by making `EmployeeID` the index"
   ]
  },
  {
   "cell_type": "code",
   "execution_count": 86,
   "metadata": {},
   "outputs": [
    {
     "name": "stdout",
     "output_type": "stream",
     "text": [
      "Index(['EmployeeID', 'recorddate_key', 'birthdate_key', 'orighiredate_key',\n",
      "       'terminationdate_key', 'age', 'length_of_service', 'city_name',\n",
      "       'department_name', 'job_title', 'store_name', 'gender_short',\n",
      "       'gender_full', 'termreason_desc', 'termtype_desc', 'STATUS_YEAR',\n",
      "       'STATUS', 'BUSINESS_UNIT'],\n",
      "      dtype='object')\n"
     ]
    }
   ],
   "source": [
    "print(df.columns)"
   ]
  },
  {
   "cell_type": "code",
   "execution_count": 87,
   "metadata": {
    "id": "-cFrJykvdsob"
   },
   "outputs": [
    {
     "data": {
      "text/html": [
       "<div>\n",
       "<style scoped>\n",
       "    .dataframe tbody tr th:only-of-type {\n",
       "        vertical-align: middle;\n",
       "    }\n",
       "\n",
       "    .dataframe tbody tr th {\n",
       "        vertical-align: top;\n",
       "    }\n",
       "\n",
       "    .dataframe thead th {\n",
       "        text-align: right;\n",
       "    }\n",
       "</style>\n",
       "<table border=\"1\" class=\"dataframe\">\n",
       "  <thead>\n",
       "    <tr style=\"text-align: right;\">\n",
       "      <th></th>\n",
       "      <th>recorddate_key</th>\n",
       "      <th>birthdate_key</th>\n",
       "      <th>orighiredate_key</th>\n",
       "      <th>terminationdate_key</th>\n",
       "      <th>age</th>\n",
       "      <th>length_of_service</th>\n",
       "      <th>city_name</th>\n",
       "      <th>department_name</th>\n",
       "      <th>job_title</th>\n",
       "      <th>store_name</th>\n",
       "      <th>gender_short</th>\n",
       "      <th>gender_full</th>\n",
       "      <th>termreason_desc</th>\n",
       "      <th>termtype_desc</th>\n",
       "      <th>STATUS_YEAR</th>\n",
       "      <th>STATUS</th>\n",
       "      <th>BUSINESS_UNIT</th>\n",
       "    </tr>\n",
       "    <tr>\n",
       "      <th>EmployeeID</th>\n",
       "      <th></th>\n",
       "      <th></th>\n",
       "      <th></th>\n",
       "      <th></th>\n",
       "      <th></th>\n",
       "      <th></th>\n",
       "      <th></th>\n",
       "      <th></th>\n",
       "      <th></th>\n",
       "      <th></th>\n",
       "      <th></th>\n",
       "      <th></th>\n",
       "      <th></th>\n",
       "      <th></th>\n",
       "      <th></th>\n",
       "      <th></th>\n",
       "      <th></th>\n",
       "    </tr>\n",
       "  </thead>\n",
       "  <tbody>\n",
       "    <tr>\n",
       "      <th>1318</th>\n",
       "      <td>12/31/2006 0:00</td>\n",
       "      <td>1/3/1954</td>\n",
       "      <td>8/28/1989</td>\n",
       "      <td>1/1/1900</td>\n",
       "      <td>52</td>\n",
       "      <td>17</td>\n",
       "      <td>Vancouver</td>\n",
       "      <td>Executive</td>\n",
       "      <td>CEO</td>\n",
       "      <td>35</td>\n",
       "      <td>M</td>\n",
       "      <td>Male</td>\n",
       "      <td>Not Applicable</td>\n",
       "      <td>Not Applicable</td>\n",
       "      <td>2006</td>\n",
       "      <td>ACTIVE</td>\n",
       "      <td>HEADOFFICE</td>\n",
       "    </tr>\n",
       "    <tr>\n",
       "      <th>1318</th>\n",
       "      <td>12/31/2007 0:00</td>\n",
       "      <td>1/3/1954</td>\n",
       "      <td>8/28/1989</td>\n",
       "      <td>1/1/1900</td>\n",
       "      <td>53</td>\n",
       "      <td>18</td>\n",
       "      <td>Vancouver</td>\n",
       "      <td>Executive</td>\n",
       "      <td>CEO</td>\n",
       "      <td>35</td>\n",
       "      <td>M</td>\n",
       "      <td>Male</td>\n",
       "      <td>Not Applicable</td>\n",
       "      <td>Not Applicable</td>\n",
       "      <td>2007</td>\n",
       "      <td>ACTIVE</td>\n",
       "      <td>HEADOFFICE</td>\n",
       "    </tr>\n",
       "    <tr>\n",
       "      <th>1318</th>\n",
       "      <td>12/31/2008 0:00</td>\n",
       "      <td>1/3/1954</td>\n",
       "      <td>8/28/1989</td>\n",
       "      <td>1/1/1900</td>\n",
       "      <td>54</td>\n",
       "      <td>19</td>\n",
       "      <td>Vancouver</td>\n",
       "      <td>Executive</td>\n",
       "      <td>CEO</td>\n",
       "      <td>35</td>\n",
       "      <td>M</td>\n",
       "      <td>Male</td>\n",
       "      <td>Not Applicable</td>\n",
       "      <td>Not Applicable</td>\n",
       "      <td>2008</td>\n",
       "      <td>ACTIVE</td>\n",
       "      <td>HEADOFFICE</td>\n",
       "    </tr>\n",
       "    <tr>\n",
       "      <th>1318</th>\n",
       "      <td>12/31/2009 0:00</td>\n",
       "      <td>1/3/1954</td>\n",
       "      <td>8/28/1989</td>\n",
       "      <td>1/1/1900</td>\n",
       "      <td>55</td>\n",
       "      <td>20</td>\n",
       "      <td>Vancouver</td>\n",
       "      <td>Executive</td>\n",
       "      <td>CEO</td>\n",
       "      <td>35</td>\n",
       "      <td>M</td>\n",
       "      <td>Male</td>\n",
       "      <td>Not Applicable</td>\n",
       "      <td>Not Applicable</td>\n",
       "      <td>2009</td>\n",
       "      <td>ACTIVE</td>\n",
       "      <td>HEADOFFICE</td>\n",
       "    </tr>\n",
       "    <tr>\n",
       "      <th>1318</th>\n",
       "      <td>12/31/2010 0:00</td>\n",
       "      <td>1/3/1954</td>\n",
       "      <td>8/28/1989</td>\n",
       "      <td>1/1/1900</td>\n",
       "      <td>56</td>\n",
       "      <td>21</td>\n",
       "      <td>Vancouver</td>\n",
       "      <td>Executive</td>\n",
       "      <td>CEO</td>\n",
       "      <td>35</td>\n",
       "      <td>M</td>\n",
       "      <td>Male</td>\n",
       "      <td>Not Applicable</td>\n",
       "      <td>Not Applicable</td>\n",
       "      <td>2010</td>\n",
       "      <td>ACTIVE</td>\n",
       "      <td>HEADOFFICE</td>\n",
       "    </tr>\n",
       "    <tr>\n",
       "      <th>...</th>\n",
       "      <td>...</td>\n",
       "      <td>...</td>\n",
       "      <td>...</td>\n",
       "      <td>...</td>\n",
       "      <td>...</td>\n",
       "      <td>...</td>\n",
       "      <td>...</td>\n",
       "      <td>...</td>\n",
       "      <td>...</td>\n",
       "      <td>...</td>\n",
       "      <td>...</td>\n",
       "      <td>...</td>\n",
       "      <td>...</td>\n",
       "      <td>...</td>\n",
       "      <td>...</td>\n",
       "      <td>...</td>\n",
       "      <td>...</td>\n",
       "    </tr>\n",
       "    <tr>\n",
       "      <th>8258</th>\n",
       "      <td>12/1/2015 0:00</td>\n",
       "      <td>5/28/1994</td>\n",
       "      <td>8/19/2013</td>\n",
       "      <td>12/30/2015</td>\n",
       "      <td>21</td>\n",
       "      <td>2</td>\n",
       "      <td>Valemount</td>\n",
       "      <td>Dairy</td>\n",
       "      <td>Dairy Person</td>\n",
       "      <td>34</td>\n",
       "      <td>M</td>\n",
       "      <td>Male</td>\n",
       "      <td>Layoff</td>\n",
       "      <td>Involuntary</td>\n",
       "      <td>2015</td>\n",
       "      <td>TERMINATED</td>\n",
       "      <td>STORES</td>\n",
       "    </tr>\n",
       "    <tr>\n",
       "      <th>8264</th>\n",
       "      <td>8/1/2013 0:00</td>\n",
       "      <td>6/13/1994</td>\n",
       "      <td>8/27/2013</td>\n",
       "      <td>8/30/2013</td>\n",
       "      <td>19</td>\n",
       "      <td>0</td>\n",
       "      <td>Vancouver</td>\n",
       "      <td>Customer Service</td>\n",
       "      <td>Cashier</td>\n",
       "      <td>44</td>\n",
       "      <td>F</td>\n",
       "      <td>Female</td>\n",
       "      <td>Resignaton</td>\n",
       "      <td>Voluntary</td>\n",
       "      <td>2013</td>\n",
       "      <td>TERMINATED</td>\n",
       "      <td>STORES</td>\n",
       "    </tr>\n",
       "    <tr>\n",
       "      <th>8279</th>\n",
       "      <td>12/1/2015 0:00</td>\n",
       "      <td>7/18/1994</td>\n",
       "      <td>9/15/2013</td>\n",
       "      <td>12/30/2015</td>\n",
       "      <td>21</td>\n",
       "      <td>2</td>\n",
       "      <td>White Rock</td>\n",
       "      <td>Customer Service</td>\n",
       "      <td>Cashier</td>\n",
       "      <td>39</td>\n",
       "      <td>F</td>\n",
       "      <td>Female</td>\n",
       "      <td>Layoff</td>\n",
       "      <td>Involuntary</td>\n",
       "      <td>2015</td>\n",
       "      <td>TERMINATED</td>\n",
       "      <td>STORES</td>\n",
       "    </tr>\n",
       "    <tr>\n",
       "      <th>8296</th>\n",
       "      <td>12/1/2013 0:00</td>\n",
       "      <td>9/2/1994</td>\n",
       "      <td>10/9/2013</td>\n",
       "      <td>12/31/2013</td>\n",
       "      <td>19</td>\n",
       "      <td>0</td>\n",
       "      <td>Kelowna</td>\n",
       "      <td>Customer Service</td>\n",
       "      <td>Cashier</td>\n",
       "      <td>16</td>\n",
       "      <td>F</td>\n",
       "      <td>Female</td>\n",
       "      <td>Resignaton</td>\n",
       "      <td>Voluntary</td>\n",
       "      <td>2013</td>\n",
       "      <td>TERMINATED</td>\n",
       "      <td>STORES</td>\n",
       "    </tr>\n",
       "    <tr>\n",
       "      <th>8321</th>\n",
       "      <td>12/1/2014 0:00</td>\n",
       "      <td>11/28/1994</td>\n",
       "      <td>11/24/2013</td>\n",
       "      <td>12/30/2014</td>\n",
       "      <td>20</td>\n",
       "      <td>1</td>\n",
       "      <td>Grand Forks</td>\n",
       "      <td>Customer Service</td>\n",
       "      <td>Cashier</td>\n",
       "      <td>13</td>\n",
       "      <td>F</td>\n",
       "      <td>Female</td>\n",
       "      <td>Layoff</td>\n",
       "      <td>Involuntary</td>\n",
       "      <td>2014</td>\n",
       "      <td>TERMINATED</td>\n",
       "      <td>STORES</td>\n",
       "    </tr>\n",
       "  </tbody>\n",
       "</table>\n",
       "<p>49653 rows × 17 columns</p>\n",
       "</div>"
      ],
      "text/plain": [
       "             recorddate_key birthdate_key orighiredate_key  \\\n",
       "EmployeeID                                                   \n",
       "1318        12/31/2006 0:00      1/3/1954        8/28/1989   \n",
       "1318        12/31/2007 0:00      1/3/1954        8/28/1989   \n",
       "1318        12/31/2008 0:00      1/3/1954        8/28/1989   \n",
       "1318        12/31/2009 0:00      1/3/1954        8/28/1989   \n",
       "1318        12/31/2010 0:00      1/3/1954        8/28/1989   \n",
       "...                     ...           ...              ...   \n",
       "8258         12/1/2015 0:00     5/28/1994        8/19/2013   \n",
       "8264          8/1/2013 0:00     6/13/1994        8/27/2013   \n",
       "8279         12/1/2015 0:00     7/18/1994        9/15/2013   \n",
       "8296         12/1/2013 0:00      9/2/1994        10/9/2013   \n",
       "8321         12/1/2014 0:00    11/28/1994       11/24/2013   \n",
       "\n",
       "           terminationdate_key  age  length_of_service    city_name  \\\n",
       "EmployeeID                                                            \n",
       "1318                  1/1/1900   52                 17    Vancouver   \n",
       "1318                  1/1/1900   53                 18    Vancouver   \n",
       "1318                  1/1/1900   54                 19    Vancouver   \n",
       "1318                  1/1/1900   55                 20    Vancouver   \n",
       "1318                  1/1/1900   56                 21    Vancouver   \n",
       "...                        ...  ...                ...          ...   \n",
       "8258                12/30/2015   21                  2    Valemount   \n",
       "8264                 8/30/2013   19                  0    Vancouver   \n",
       "8279                12/30/2015   21                  2   White Rock   \n",
       "8296                12/31/2013   19                  0      Kelowna   \n",
       "8321                12/30/2014   20                  1  Grand Forks   \n",
       "\n",
       "             department_name     job_title  store_name gender_short  \\\n",
       "EmployeeID                                                            \n",
       "1318               Executive           CEO          35            M   \n",
       "1318               Executive           CEO          35            M   \n",
       "1318               Executive           CEO          35            M   \n",
       "1318               Executive           CEO          35            M   \n",
       "1318               Executive           CEO          35            M   \n",
       "...                      ...           ...         ...          ...   \n",
       "8258                   Dairy  Dairy Person          34            M   \n",
       "8264        Customer Service       Cashier          44            F   \n",
       "8279        Customer Service       Cashier          39            F   \n",
       "8296        Customer Service       Cashier          16            F   \n",
       "8321        Customer Service       Cashier          13            F   \n",
       "\n",
       "           gender_full termreason_desc   termtype_desc  STATUS_YEAR  \\\n",
       "EmployeeID                                                            \n",
       "1318              Male  Not Applicable  Not Applicable         2006   \n",
       "1318              Male  Not Applicable  Not Applicable         2007   \n",
       "1318              Male  Not Applicable  Not Applicable         2008   \n",
       "1318              Male  Not Applicable  Not Applicable         2009   \n",
       "1318              Male  Not Applicable  Not Applicable         2010   \n",
       "...                ...             ...             ...          ...   \n",
       "8258              Male          Layoff     Involuntary         2015   \n",
       "8264            Female      Resignaton       Voluntary         2013   \n",
       "8279            Female          Layoff     Involuntary         2015   \n",
       "8296            Female      Resignaton       Voluntary         2013   \n",
       "8321            Female          Layoff     Involuntary         2014   \n",
       "\n",
       "                STATUS BUSINESS_UNIT  \n",
       "EmployeeID                            \n",
       "1318            ACTIVE    HEADOFFICE  \n",
       "1318            ACTIVE    HEADOFFICE  \n",
       "1318            ACTIVE    HEADOFFICE  \n",
       "1318            ACTIVE    HEADOFFICE  \n",
       "1318            ACTIVE    HEADOFFICE  \n",
       "...                ...           ...  \n",
       "8258        TERMINATED        STORES  \n",
       "8264        TERMINATED        STORES  \n",
       "8279        TERMINATED        STORES  \n",
       "8296        TERMINATED        STORES  \n",
       "8321        TERMINATED        STORES  \n",
       "\n",
       "[49653 rows x 17 columns]"
      ]
     },
     "execution_count": 87,
     "metadata": {},
     "output_type": "execute_result"
    }
   ],
   "source": [
    "# A: turn the Employee ID column into the index\n",
    "df.set_index('EmployeeID', inplace=True)\n",
    "df"
   ]
  },
  {
   "cell_type": "markdown",
   "metadata": {
    "id": "gvP4e-sMxUa_"
   },
   "source": [
    "#### 3.A Find a specific row using the index"
   ]
  },
  {
   "cell_type": "code",
   "execution_count": 92,
   "metadata": {
    "id": "vpaI3UKndsof"
   },
   "outputs": [
    {
     "name": "stdout",
     "output_type": "stream",
     "text": [
      "             recorddate_key birthdate_key orighiredate_key  \\\n",
      "EmployeeID                                                   \n",
      "8258        12/31/2013 0:00     5/28/1994        8/19/2013   \n",
      "8258        12/31/2014 0:00     5/28/1994        8/19/2013   \n",
      "8258         12/1/2015 0:00     5/28/1994        8/19/2013   \n",
      "\n",
      "           terminationdate_key  age  length_of_service  city_name  \\\n",
      "EmployeeID                                                          \n",
      "8258                12/30/2015   19                  0  Valemount   \n",
      "8258                12/30/2015   20                  1  Valemount   \n",
      "8258                12/30/2015   21                  2  Valemount   \n",
      "\n",
      "           department_name     job_title  store_name gender_short gender_full  \\\n",
      "EmployeeID                                                                      \n",
      "8258                 Dairy  Dairy Person          34            M        Male   \n",
      "8258                 Dairy  Dairy Person          34            M        Male   \n",
      "8258                 Dairy  Dairy Person          34            M        Male   \n",
      "\n",
      "           termreason_desc   termtype_desc  STATUS_YEAR      STATUS  \\\n",
      "EmployeeID                                                            \n",
      "8258        Not Applicable  Not Applicable         2013      ACTIVE   \n",
      "8258        Not Applicable  Not Applicable         2014      ACTIVE   \n",
      "8258                Layoff     Involuntary         2015  TERMINATED   \n",
      "\n",
      "           BUSINESS_UNIT  \n",
      "EmployeeID                \n",
      "8258              STORES  \n",
      "8258              STORES  \n",
      "8258              STORES  \n"
     ]
    }
   ],
   "source": [
    "# A:\n",
    "specific_row = df.loc[8258]\n",
    "print(specific_row)"
   ]
  },
  {
   "cell_type": "markdown",
   "metadata": {
    "id": "PYE7wF1xxtUr"
   },
   "source": [
    "#### 3.B Sort the dataframe using the index"
   ]
  },
  {
   "cell_type": "code",
   "execution_count": 94,
   "metadata": {
    "id": "qjhgMeUmdsoj"
   },
   "outputs": [
    {
     "name": "stdout",
     "output_type": "stream",
     "text": [
      "             recorddate_key birthdate_key orighiredate_key  \\\n",
      "EmployeeID                                                   \n",
      "1318        12/31/2006 0:00      1/3/1954        8/28/1989   \n",
      "1318        12/31/2008 0:00      1/3/1954        8/28/1989   \n",
      "1318        12/31/2010 0:00      1/3/1954        8/28/1989   \n",
      "1318        12/31/2007 0:00      1/3/1954        8/28/1989   \n",
      "1318        12/31/2009 0:00      1/3/1954        8/28/1989   \n",
      "\n",
      "           terminationdate_key  age  length_of_service  city_name  \\\n",
      "EmployeeID                                                          \n",
      "1318                  1/1/1900   52                 17  Vancouver   \n",
      "1318                  1/1/1900   54                 19  Vancouver   \n",
      "1318                  1/1/1900   56                 21  Vancouver   \n",
      "1318                  1/1/1900   53                 18  Vancouver   \n",
      "1318                  1/1/1900   55                 20  Vancouver   \n",
      "\n",
      "           department_name job_title  store_name gender_short gender_full  \\\n",
      "EmployeeID                                                                  \n",
      "1318             Executive       CEO          35            M        Male   \n",
      "1318             Executive       CEO          35            M        Male   \n",
      "1318             Executive       CEO          35            M        Male   \n",
      "1318             Executive       CEO          35            M        Male   \n",
      "1318             Executive       CEO          35            M        Male   \n",
      "\n",
      "           termreason_desc   termtype_desc  STATUS_YEAR  STATUS BUSINESS_UNIT  \n",
      "EmployeeID                                                                     \n",
      "1318        Not Applicable  Not Applicable         2006  ACTIVE    HEADOFFICE  \n",
      "1318        Not Applicable  Not Applicable         2008  ACTIVE    HEADOFFICE  \n",
      "1318        Not Applicable  Not Applicable         2010  ACTIVE    HEADOFFICE  \n",
      "1318        Not Applicable  Not Applicable         2007  ACTIVE    HEADOFFICE  \n",
      "1318        Not Applicable  Not Applicable         2009  ACTIVE    HEADOFFICE  \n"
     ]
    }
   ],
   "source": [
    "# A:\n",
    "df.sort_index(inplace=True)\n",
    "print(df.head())"
   ]
  },
  {
   "cell_type": "markdown",
   "metadata": {
    "id": "9ElW7kYEyJpc"
   },
   "source": [
    "##### 3.C [BONUS] Sort the dataframe using `age`"
   ]
  },
  {
   "cell_type": "code",
   "execution_count": 96,
   "metadata": {
    "id": "dhI0huT13sQc"
   },
   "outputs": [
    {
     "name": "stdout",
     "output_type": "stream",
     "text": [
      "             recorddate_key birthdate_key orighiredate_key  \\\n",
      "EmployeeID                                                   \n",
      "8334        12/31/2013 0:00    12/27/1994        12/9/2013   \n",
      "8335        12/31/2013 0:00    12/28/1994       12/10/2013   \n",
      "8316        12/31/2013 0:00    11/19/1994       11/19/2013   \n",
      "8303        12/31/2013 0:00     10/7/1994       10/27/2013   \n",
      "8304        12/31/2013 0:00     10/7/1994       10/27/2013   \n",
      "\n",
      "           terminationdate_key  age  length_of_service       city_name  \\\n",
      "EmployeeID                                                               \n",
      "8334                  1/1/1900   19                  0  West Vancouver   \n",
      "8335                  1/1/1900   19                  0       Vancouver   \n",
      "8316                  1/1/1900   19                  0      Abbotsford   \n",
      "8303                  1/1/1900   19                  0         Nanaimo   \n",
      "8304                  1/1/1900   19                  0         Terrace   \n",
      "\n",
      "             department_name     job_title  store_name gender_short  \\\n",
      "EmployeeID                                                            \n",
      "8334        Customer Service       Cashier          38            F   \n",
      "8335                   Dairy  Dairy Person          35            F   \n",
      "8316        Customer Service       Cashier           1            M   \n",
      "8303        Customer Service       Cashier          18            M   \n",
      "8304        Customer Service       Cashier          32            M   \n",
      "\n",
      "           gender_full termreason_desc   termtype_desc  STATUS_YEAR  STATUS  \\\n",
      "EmployeeID                                                                    \n",
      "8334            Female  Not Applicable  Not Applicable         2013  ACTIVE   \n",
      "8335            Female  Not Applicable  Not Applicable         2013  ACTIVE   \n",
      "8316              Male  Not Applicable  Not Applicable         2013  ACTIVE   \n",
      "8303              Male  Not Applicable  Not Applicable         2013  ACTIVE   \n",
      "8304              Male  Not Applicable  Not Applicable         2013  ACTIVE   \n",
      "\n",
      "           BUSINESS_UNIT  \n",
      "EmployeeID                \n",
      "8334              STORES  \n",
      "8335              STORES  \n",
      "8316              STORES  \n",
      "8303              STORES  \n",
      "8304              STORES  \n"
     ]
    }
   ],
   "source": [
    "# A:\n",
    "df_sorted_by_age = df.sort_values('age')\n",
    "print(df_sorted_by_age.head())"
   ]
  },
  {
   "cell_type": "markdown",
   "metadata": {
    "id": "VvveQ2cAySpi"
   },
   "source": [
    "##### 3.D [BONUS] Using `sample` select any row"
   ]
  },
  {
   "cell_type": "code",
   "execution_count": 97,
   "metadata": {
    "id": "4nVrO5Pwdsom"
   },
   "outputs": [
    {
     "data": {
      "text/html": [
       "<div>\n",
       "<style scoped>\n",
       "    .dataframe tbody tr th:only-of-type {\n",
       "        vertical-align: middle;\n",
       "    }\n",
       "\n",
       "    .dataframe tbody tr th {\n",
       "        vertical-align: top;\n",
       "    }\n",
       "\n",
       "    .dataframe thead th {\n",
       "        text-align: right;\n",
       "    }\n",
       "</style>\n",
       "<table border=\"1\" class=\"dataframe\">\n",
       "  <thead>\n",
       "    <tr style=\"text-align: right;\">\n",
       "      <th></th>\n",
       "      <th>recorddate_key</th>\n",
       "      <th>birthdate_key</th>\n",
       "      <th>orighiredate_key</th>\n",
       "      <th>terminationdate_key</th>\n",
       "      <th>age</th>\n",
       "      <th>length_of_service</th>\n",
       "      <th>city_name</th>\n",
       "      <th>department_name</th>\n",
       "      <th>job_title</th>\n",
       "      <th>store_name</th>\n",
       "      <th>gender_short</th>\n",
       "      <th>gender_full</th>\n",
       "      <th>termreason_desc</th>\n",
       "      <th>termtype_desc</th>\n",
       "      <th>STATUS_YEAR</th>\n",
       "      <th>STATUS</th>\n",
       "      <th>BUSINESS_UNIT</th>\n",
       "    </tr>\n",
       "    <tr>\n",
       "      <th>EmployeeID</th>\n",
       "      <th></th>\n",
       "      <th></th>\n",
       "      <th></th>\n",
       "      <th></th>\n",
       "      <th></th>\n",
       "      <th></th>\n",
       "      <th></th>\n",
       "      <th></th>\n",
       "      <th></th>\n",
       "      <th></th>\n",
       "      <th></th>\n",
       "      <th></th>\n",
       "      <th></th>\n",
       "      <th></th>\n",
       "      <th></th>\n",
       "      <th></th>\n",
       "      <th></th>\n",
       "    </tr>\n",
       "  </thead>\n",
       "  <tbody>\n",
       "    <tr>\n",
       "      <th>6400</th>\n",
       "      <td>12/31/2011 0:00</td>\n",
       "      <td>1/17/1980</td>\n",
       "      <td>1/18/2006</td>\n",
       "      <td>1/1/1900</td>\n",
       "      <td>31</td>\n",
       "      <td>5</td>\n",
       "      <td>Victoria</td>\n",
       "      <td>Bakery</td>\n",
       "      <td>Baker</td>\n",
       "      <td>46</td>\n",
       "      <td>F</td>\n",
       "      <td>Female</td>\n",
       "      <td>Not Applicable</td>\n",
       "      <td>Not Applicable</td>\n",
       "      <td>2011</td>\n",
       "      <td>ACTIVE</td>\n",
       "      <td>STORES</td>\n",
       "    </tr>\n",
       "  </tbody>\n",
       "</table>\n",
       "</div>"
      ],
      "text/plain": [
       "             recorddate_key birthdate_key orighiredate_key  \\\n",
       "EmployeeID                                                   \n",
       "6400        12/31/2011 0:00     1/17/1980        1/18/2006   \n",
       "\n",
       "           terminationdate_key  age  length_of_service city_name  \\\n",
       "EmployeeID                                                         \n",
       "6400                  1/1/1900   31                  5  Victoria   \n",
       "\n",
       "           department_name job_title  store_name gender_short gender_full  \\\n",
       "EmployeeID                                                                  \n",
       "6400                Bakery     Baker          46            F      Female   \n",
       "\n",
       "           termreason_desc   termtype_desc  STATUS_YEAR  STATUS BUSINESS_UNIT  \n",
       "EmployeeID                                                                     \n",
       "6400        Not Applicable  Not Applicable         2011  ACTIVE        STORES  "
      ]
     },
     "execution_count": 97,
     "metadata": {},
     "output_type": "execute_result"
    }
   ],
   "source": [
    "# A:\n",
    "df.sample(1)"
   ]
  },
  {
   "cell_type": "markdown",
   "metadata": {
    "id": "L5yQi1wHyuAh"
   },
   "source": [
    "# 4. Visualisation\n"
   ]
  },
  {
   "cell_type": "markdown",
   "metadata": {
    "id": "LkcSWOQUMc08"
   },
   "source": [
    "#### 4.A Plot a histogram of `age`"
   ]
  },
  {
   "cell_type": "code",
   "execution_count": 103,
   "metadata": {
    "id": "YcUyfH1tdsor"
   },
   "outputs": [
    {
     "data": {
      "image/png": "[encoded data removed]",
      "text/plain": [
       "<Figure size 640x480 with 1 Axes>"
      ]
     },
     "metadata": {},
     "output_type": "display_data"
    }
   ],
   "source": [
    "# A:\n",
    "num_bins = 55\n",
    "n,bins,patches = plt.hist(df['age'],bins=num_bins,facecolor='orange',alpha=0.5)\n",
    "\n",
    "#add labes and title\n",
    "plt.title (\"Histogram: Age\")\n",
    "plt.xlabel ('Age')\n",
    "plt.ylabel ('Frequency')\n",
    "\n",
    "# show the plt\n",
    "plt.show()"
   ]
  },
  {
   "cell_type": "code",
   "execution_count": null,
   "metadata": {},
   "outputs": [],
   "source": []
  },
  {
   "cell_type": "markdown",
   "metadata": {
    "id": "f5ev6X-Uy-CP"
   },
   "source": [
    "#### 4.B BoxPlot of `age`"
   ]
  },
  {
   "cell_type": "code",
   "execution_count": 106,
   "metadata": {},
   "outputs": [
    {
     "data": {
      "image/png": "[encoded data removed]",
      "text/plain": [
       "<Figure size 640x480 with 1 Axes>"
      ]
     },
     "metadata": {},
     "output_type": "display_data"
    }
   ],
   "source": [
    "df.boxplot(column='age')\n",
    "\n",
    "#add title\n",
    "plt.title ('Boxplot:Age')\n",
    "plt.xlabel ('Age')\n",
    "plt.ylabel ('Frequency')\n",
    "\n",
    "plt.show()"
   ]
  },
  {
   "cell_type": "code",
   "execution_count": null,
   "metadata": {
    "id": "ukRrrJFmdsow"
   },
   "outputs": [],
   "source": [
    "# A:"
   ]
  },
  {
   "cell_type": "markdown",
   "metadata": {
    "id": "VdvlCmOczGs1"
   },
   "source": [
    "#### 4.C Create a scatterplot of `age` and `length_of_service`"
   ]
  },
  {
   "cell_type": "code",
   "execution_count": 111,
   "metadata": {
    "id": "OZBpp-O5dsoz"
   },
   "outputs": [
    {
     "data": {
      "image/png": "[encoded data removed]",
      "text/plain": [
       "<Figure size 640x480 with 1 Axes>"
      ]
     },
     "metadata": {},
     "output_type": "display_data"
    }
   ],
   "source": [
    "# A:\n",
    "plt.scatter(df['age'],df['length_of_service'],color='blue')\n",
    "\n",
    "#add title\n",
    "plt.title ('Scatterplot of Age Vs Length of Service')\n",
    "plt.xlabel ('Age')\n",
    "plt.ylabel ('Length of Service')\n",
    "\n",
    "plt.show()\n"
   ]
  },
  {
   "cell_type": "raw",
   "metadata": {},
   "source": []
  },
  {
   "cell_type": "markdown",
   "metadata": {
    "id": "O-Mn86xZzjC9"
   },
   "source": [
    "#### 4.D Print a statistical summary of `age`"
   ]
  },
  {
   "cell_type": "code",
   "execution_count": 116,
   "metadata": {
    "id": "gMeCpCUzdso4"
   },
   "outputs": [
    {
     "name": "stdout",
     "output_type": "stream",
     "text": [
      "count    49653.000000\n",
      "mean        42.077035\n",
      "std         12.427257\n",
      "min         19.000000\n",
      "25%         31.000000\n",
      "50%         42.000000\n",
      "75%         53.000000\n",
      "max         65.000000\n",
      "Name: age, dtype: float64\n"
     ]
    }
   ],
   "source": [
    "# A: \n",
    "\n",
    "age_stats = df['age'].describe()\n",
    "print(age_stats)"
   ]
  },
  {
   "cell_type": "markdown",
   "metadata": {
    "id": "XYm9Jsx2pybf"
   },
   "source": [
    "\n",
    "\n",
    "---\n",
    "\n",
    "\n",
    "\n",
    "---\n",
    "\n",
    "\n",
    "\n",
    "> > > > > > > > > © 2025 Institute of Data\n",
    "\n",
    "\n",
    "---\n",
    "\n",
    "\n",
    "\n",
    "---\n",
    "\n",
    "\n",
    "\n"
   ]
  }
 ],
 "metadata": {
  "colab": {
   "provenance": [
    {
     "file_id": "https://github.com/ikfaisal/dsia/blob/master/Pandas01_Lab_Solution.ipynb",
     "timestamp": 1552628309393
    }
   ]
  },
  "kernelspec": {
   "display_name": "Python 3 (ipykernel)",
   "language": "python",
   "name": "python3"
  },
  "language_info": {
   "codemirror_mode": {
    "name": "ipython",
    "version": 3
   },
   "file_extension": ".py",
   "mimetype": "text/x-python",
   "name": "python",
   "nbconvert_exporter": "python",
   "pygments_lexer": "ipython3",
   "version": "3.11.11"
  }
 },
 "nbformat": 4,
 "nbformat_minor": 4
}
